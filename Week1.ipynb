{
  "nbformat": 4,
  "nbformat_minor": 0,
  "metadata": {
    "colab": {
      "provenance": [],
      "toc_visible": true
    },
    "kernelspec": {
      "name": "python3",
      "display_name": "Python 3"
    },
    "language_info": {
      "name": "python"
    }
  },
  "cells": [
    {
      "cell_type": "markdown",
      "source": [
        "# Introduction to Python and Google Colab\n",
        "\n",
        "This type of file (.ipynb) is called markdown and combines text with code! It's great for starting out, for teaching, and for visualising data.\n",
        "\n",
        "**To start using google colab and markdown, use the File menu to save a copy in your own drive so you can edit it! Once you have done this, answer the first question in Zoom.**"
      ],
      "metadata": {
        "id": "6WtwKsBkmKre"
      }
    },
    {
      "cell_type": "markdown",
      "source": [
        "---\n",
        "\n",
        "*Go to Zoom *\n",
        "\n",
        "---"
      ],
      "metadata": {
        "id": "dpK_vRHTGo01"
      }
    },
    {
      "cell_type": "markdown",
      "source": [
        "\n",
        "\n",
        "# Adding Chunks\n",
        "The markdown contains **chunks**, each chunk can be code or text. You can add chunks using the buttons at the top.\n",
        "\n",
        "To edit a chunk, double click it. To stop editing, click off it.\n",
        "\n"
      ],
      "metadata": {
        "id": "qoY0zUf7qd3x"
      }
    },
    {
      "cell_type": "markdown",
      "source": [
        "# Running Code\n",
        "Code isn't run until you run the chunk. This means that the computer hasn't received what you have entered until then.\n",
        "\n",
        "To run code chunks you can:\n",
        "\n",
        "* Press the little circle \"Play\" button\n",
        "\n",
        "* Press CTRL + Enter or CMD + Enter\n",
        "\n",
        "* Use the Runtime menu bar\n",
        "\n",
        "\n",
        "\n",
        "Run the code below ...\n",
        "\n",
        "\n"
      ],
      "metadata": {
        "id": "eBUP6m9MH1NA"
      }
    },
    {
      "cell_type": "code",
      "source": [
        "1 + 1"
      ],
      "metadata": {
        "collapsed": true,
        "id": "TbwjbhtWHFUK"
      },
      "execution_count": null,
      "outputs": []
    },
    {
      "cell_type": "markdown",
      "source": [
        "\n",
        "# Errors are your friend!\n",
        "\n",
        " Like all languages, programming languages have grammar and vocabulary (syntax). One main cause of errors is not following these rules."
      ],
      "metadata": {
        "id": "qBzipV8plO2T"
      }
    },
    {
      "cell_type": "code",
      "source": [
        "show me the date and the number of samples that were collected each day"
      ],
      "metadata": {
        "id": "sLL_jO75mzUC"
      },
      "execution_count": null,
      "outputs": []
    },
    {
      "cell_type": "markdown",
      "source": [
        "# Basic Functions\n",
        "\n",
        "We will discuss functions in more detail but we can use lots of basic ones that are built-in to Python. To use a function we type its name and parentheses. The input inside the parentheses is called the argument.\n",
        "\n",
        "```python3\n",
        "function_name(argument)\n",
        "```"
      ],
      "metadata": {
        "id": "wPhgbHHLmRS_"
      }
    },
    {
      "cell_type": "code",
      "source": [
        "round(1.8945)"
      ],
      "metadata": {
        "id": "lfUN8d7_IeAD"
      },
      "execution_count": null,
      "outputs": []
    },
    {
      "cell_type": "markdown",
      "source": [
        "## Print\n",
        "\n",
        "The \"print\" statement is one of the most basic functions we use in python."
      ],
      "metadata": {
        "id": "qa0OUa-TlaaH"
      }
    },
    {
      "cell_type": "code",
      "execution_count": null,
      "metadata": {
        "id": "IUEuluGZlDgw"
      },
      "outputs": [],
      "source": [
        "print(\"Hello World\")"
      ]
    },
    {
      "cell_type": "markdown",
      "source": [
        "# Ins and Outs - Data Types\n",
        "Several basic **types** of data storage:\n",
        "\n",
        "| Type|Name|Example\n",
        "| :--- |:--- |:---\n",
        "| Integer|int|1, 2, 5 , 10, 21235\n",
        "| Float|float|0.5, 1.2, 8.0\n",
        "| Boolean|bool|True, False\n",
        "| String|str|\"DNA\", \"ATCGA\"\n",
        "| List|list|[1,2,3], [\"A\",\"T\",\"C\",\"G\"]\n",
        "| Dictionary|dict|{1:\"A\",2:\"B\"}\n",
        "\n"
      ],
      "metadata": {
        "id": "riP71pnEmr15"
      }
    },
    {
      "cell_type": "markdown",
      "source": [
        "## Type"
      ],
      "metadata": {
        "id": "6ugxbJayuEme"
      }
    },
    {
      "cell_type": "code",
      "source": [
        "# This is a string\n",
        "type(\"Rowan Barker-Clarke\")"
      ],
      "metadata": {
        "id": "rf5L-AnVn88h"
      },
      "execution_count": null,
      "outputs": []
    },
    {
      "cell_type": "code",
      "source": [
        "# This is an integer\n",
        "type(11)"
      ],
      "metadata": {
        "id": "PyhxoEHytr_8"
      },
      "execution_count": null,
      "outputs": []
    },
    {
      "cell_type": "markdown",
      "source": [
        "## Len\n",
        "\n",
        "At first we will use len to give us the length of a string, but it can also be used on bigger more complex objects like lists\n",
        "``` python\n",
        "len(\"thing\")\n",
        "```"
      ],
      "metadata": {
        "id": "KKqWhD4jubtN"
      }
    },
    {
      "cell_type": "code",
      "source": [
        "len(\"How many characters in this string?\")"
      ],
      "metadata": {
        "id": "egHIGYRfutlQ"
      },
      "execution_count": null,
      "outputs": []
    },
    {
      "cell_type": "code",
      "source": [
        "# Length of this sequence\n",
        "len(\"TTGAACCTAGAGAGAGTCTGGGAGATATATT\")"
      ],
      "metadata": {
        "id": "1MyhPVzeuyAn"
      },
      "execution_count": null,
      "outputs": []
    },
    {
      "cell_type": "markdown",
      "source": [
        "## Small Exercises"
      ],
      "metadata": {
        "id": "m-bVBwWqt8EG"
      }
    },
    {
      "cell_type": "code",
      "source": [
        "# Edit this code so the type is float\n",
        "type(\"35.1\")"
      ],
      "metadata": {
        "id": "6Rhc4VEztx-w"
      },
      "execution_count": null,
      "outputs": []
    },
    {
      "cell_type": "code",
      "source": [
        "# Edit this code so there is no error and it prints your own name!\n",
        "print(\"My name is Rowan)"
      ],
      "metadata": {
        "id": "xUGZVRVklOdQ"
      },
      "execution_count": null,
      "outputs": []
    },
    {
      "cell_type": "code",
      "source": [
        "# Edit this DNA sequence so that the length of the sequence is 34\n",
        "len(\"TTGAACCTAGAGAGAGTCTGGGAGATATAGGC\")"
      ],
      "metadata": {
        "id": "pCVqmhnHlhzW"
      },
      "execution_count": null,
      "outputs": []
    },
    {
      "cell_type": "markdown",
      "source": [
        "# Variables\n",
        "Thankfully, we don't have to type out numbers or text any time we want to use them. We use **variables** to store information. These work like algebra.\n",
        "\n",
        "``` python\n",
        "# These are all good variable names\n",
        "a = 2\n",
        "b = 3.4\n",
        "name = \"Rowan\"\n",
        "```\n",
        "\n",
        "Variable names must **not** start with a number and *cannot* have spaces in them. When you want to access a variable again, you must type it exactly! (This is a common beginner issue).\n",
        "\n",
        "``` python\n",
        "# These are all variable names that won't work and you will get errors\n",
        "p value = 0.01\n",
        "3b = 3.4\n",
        "my name = \"Rowan\"\n",
        "```"
      ],
      "metadata": {
        "id": "MUWWaYzrozYj"
      }
    },
    {
      "cell_type": "code",
      "source": [
        "p_value=0.01\n",
        "pvalue=0.02\n",
        "print(p_value)\n",
        "print(pvalue)"
      ],
      "metadata": {
        "id": "-QC7AC6LtLEy"
      },
      "execution_count": null,
      "outputs": []
    },
    {
      "cell_type": "code",
      "source": [
        "pvalue =0.001\n",
        "print(pvalue)"
      ],
      "metadata": {
        "id": "u1GvO7PDwkYG"
      },
      "execution_count": null,
      "outputs": []
    },
    {
      "cell_type": "code",
      "source": [
        "print(pval)"
      ],
      "metadata": {
        "id": "KgDSQ1smsCgs"
      },
      "execution_count": null,
      "outputs": []
    },
    {
      "cell_type": "code",
      "source": [
        "1name = \"Rowan\""
      ],
      "metadata": {
        "id": "ylbG45wmtQ-a"
      },
      "execution_count": null,
      "outputs": []
    },
    {
      "cell_type": "markdown",
      "source": [
        "It is important to know that when you run code, redefining a variable will overwrite the previous value."
      ],
      "metadata": {
        "id": "i7dhptIksIrh"
      }
    },
    {
      "cell_type": "code",
      "source": [
        "name = \"Rowan\"\n",
        "print(name)\n",
        "name = \"Rowan Barker-Clarke\"\n",
        "print(name)"
      ],
      "metadata": {
        "id": "pxVuOxpzpiz6"
      },
      "execution_count": null,
      "outputs": []
    },
    {
      "cell_type": "code",
      "source": [
        "sequence = \"AGGTCGAGGAA\"\n",
        "\n",
        "# There are even sleeker ways to do this, but as an example\n",
        "print(\"My sequence length is:\")\n",
        "print(len(sequence))"
      ],
      "metadata": {
        "id": "_Pbwzsv7xtCV"
      },
      "execution_count": null,
      "outputs": []
    },
    {
      "cell_type": "markdown",
      "source": [
        "# Basic Math (and a warning)\n",
        "\n",
        "Mathematical operations are easily built in to Python\n",
        "\n",
        "| Operation|Key|\n",
        "| :--- |:--- |\n",
        "| Addition|+|\n",
        "| Subtraction|-|\n",
        "| Multiplication|*|\n",
        "| Division|/|\n",
        "\n",
        "\n"
      ],
      "metadata": {
        "id": "r_uvGE26o-gS"
      }
    },
    {
      "cell_type": "code",
      "source": [
        "# Calculations work great with integers and floats\n",
        "3*4.0"
      ],
      "metadata": {
        "id": "3JX0iqU_o8Id"
      },
      "execution_count": null,
      "outputs": []
    },
    {
      "cell_type": "code",
      "source": [
        "# Mixing numbers and strings can give you unexpected results\n",
        "3*\"4\""
      ],
      "metadata": {
        "id": "W2TFWzJEpFLJ"
      },
      "execution_count": null,
      "outputs": []
    },
    {
      "cell_type": "markdown",
      "source": [
        "# Logical operations\n",
        "\n",
        "We can also compare values using *logical operators*\n",
        "\n",
        "| Logical operator|Meaning|\n",
        "| :--- |:--- |\n",
        "| <|Less than|\n",
        "| >|Greater than|\n",
        "| <=|Less than or equal to|\n",
        "| >=|Greater than or equal to|\n",
        "| ==|Equal to|\n",
        "| !=|Not equal to|\n"
      ],
      "metadata": {
        "id": "Hg5zVYcvhFln"
      }
    },
    {
      "cell_type": "code",
      "source": [
        "5 < 3"
      ],
      "metadata": {
        "id": "uRkP46wQhOgx"
      },
      "execution_count": null,
      "outputs": []
    },
    {
      "cell_type": "code",
      "source": [
        "a = 7\n",
        "b = 3\n",
        "\n",
        "a<=b"
      ],
      "metadata": {
        "id": "Ef1ndjA1hQmW"
      },
      "execution_count": null,
      "outputs": []
    },
    {
      "cell_type": "code",
      "source": [
        "a==b"
      ],
      "metadata": {
        "id": "9K9G4qtdhV7x"
      },
      "execution_count": null,
      "outputs": []
    },
    {
      "cell_type": "markdown",
      "source": [
        "# Lists\n",
        "\n",
        "Lists store multiple pieces of information, they don't have to be the same type.\n",
        "\n",
        "We build a list like this:\n",
        "\n",
        "``` python\n",
        "[item1, item2, item3]\n",
        "```\n",
        "\n",
        "Python doesn't restrict the types of data\n",
        "\n",
        "``` python\n",
        "[\"apple\", 9, \"banana\"]\n",
        "```\n",
        "\n",
        "\n",
        "``` python\n",
        "codons = [\"AAA\",\"CCC\",\"GGG\"]\n",
        "```"
      ],
      "metadata": {
        "id": "xXQ3aPHPxEM5"
      }
    },
    {
      "cell_type": "code",
      "source": [
        "# Examples of lists\n",
        "sampleIDs = [\"CASE001\", \"CASE003\", \"CASE004\", \"CASE002\", \"CASE005\"]\n",
        "tissue = [\"ovary\", \"ovary\", \"fallopian tube\", \"omentum\", \"ovary\"]"
      ],
      "metadata": {
        "id": "DufHdpvPzqkS"
      },
      "execution_count": null,
      "outputs": []
    },
    {
      "cell_type": "code",
      "source": [
        "print(tissue)"
      ],
      "metadata": {
        "id": "wrDVEVdj0CUf"
      },
      "execution_count": null,
      "outputs": []
    },
    {
      "cell_type": "markdown",
      "source": [
        "\n",
        "# Indexing\n",
        "Items in a list have positions we call their **index**:\n",
        "\n",
        "\n",
        "``` python\n",
        "mylist = [23,44,10]\n",
        "print(mylist[0]) # This would print the FIRST number (23)\n",
        "```\n",
        "\n",
        "**Important!** In python, we start counting positions from 0.\n",
        "\n",
        "``` python\n",
        "# Index\n",
        "# [ 0 , 1, 2, 3, ...\n",
        "shopping_list = [\"apple\", \"jam\",\"peas\", \"jello\", \"peanut butter\",\"bananas\",\"bread\"]\n",
        "print(shopping_list[5])\n",
        "```\n",
        "\n",
        "Answer on Zoom: What will this print?"
      ],
      "metadata": {
        "id": "oqSoU3wnzqz7"
      }
    },
    {
      "cell_type": "code",
      "source": [
        "shopping_list = [\"apple\", \"jam\",\"peas\", \"jello\", \"peanut butter\",\"bananas\",\"bread\"]\n",
        "print(shopping_list[5])"
      ],
      "metadata": {
        "id": "0gBi8LWdxDgo"
      },
      "execution_count": null,
      "outputs": []
    },
    {
      "cell_type": "markdown",
      "source": [
        "# Counting in Strings\n",
        "\n",
        "We can add .count(pattern) to the end of a string to count occurrences\n",
        "\n",
        "``` python\n",
        "\"abcdabcdabcd\".count(\"a\")\n",
        "\n",
        "```"
      ],
      "metadata": {
        "id": "LoanGO54iit0"
      }
    },
    {
      "cell_type": "code",
      "source": [
        "(\"abcdabcdabcdabcd\").count(\"a\")"
      ],
      "metadata": {
        "id": "hPQ-wV9oi6sQ"
      },
      "execution_count": null,
      "outputs": []
    },
    {
      "cell_type": "code",
      "source": [
        "(\"abcdabcdabcdabcd\").count(\"f\")"
      ],
      "metadata": {
        "id": "T7U-_II0jJt_"
      },
      "execution_count": null,
      "outputs": []
    },
    {
      "cell_type": "code",
      "source": [
        "dna=\"AGTAGGATCGATTATTATATTAA\"\n",
        "dna.count(\"A\")"
      ],
      "metadata": {
        "id": "56qWYKvbiiNR"
      },
      "execution_count": null,
      "outputs": []
    },
    {
      "cell_type": "markdown",
      "source": [
        "Edit this code to find the individual counts, the gc count and the percent of the DNA content that is gc."
      ],
      "metadata": {
        "id": "tsnoenYyjN32"
      }
    },
    {
      "cell_type": "code",
      "source": [
        "a_count = dna.count(\"A\")\n",
        "g_count =\n",
        "c_count =\n",
        "t_count ="
      ],
      "metadata": {
        "id": "U4l6Ev_Dio6p"
      },
      "execution_count": null,
      "outputs": []
    },
    {
      "cell_type": "markdown",
      "source": [
        "# Other string manipulation!\n",
        "\n",
        "There are some really handy built-in tools for modifying strings in python!\n",
        "\n",
        "| Function|Action\n",
        "| :--- |:---     \n",
        "|string.find('a')|\t  Find the first position where 'a' occurs in the string\n",
        "|string.count('s')|\t  Counts how many 's' characters are in the string\n",
        "|string.lower()|\t  Copy of string with all characters converted to upper case\n",
        "|string.upper() |\t  Copy of string with all characters converted to upper case\n",
        "|string.isdigit()|\t  Checks if string contains only digits. Returns True or False\n",
        "|string.isalpha()|\t  Checks if string contains only alphabets. Returns True or False\n",
        "|string.alnum()\t|  Checks if the string contains alphanumeric characters only. Returns True or False\n",
        "|string.strip()\t|   Strips a character from both sides of the string\n",
        "|string.split()\t|   Splits the string into a list of substrings\n",
        "|string.replace('s','t')|\t   Replaces all 's' in the string with 't'\n",
        "# |string.join(list)|\t   Joins all members of list into a single striing object"
      ],
      "metadata": {
        "id": "fRIvBEefjpNb"
      }
    },
    {
      "cell_type": "markdown",
      "source": [
        "\n",
        "\n",
        "A DNA protein is made of 2 sequences called strands. There is a \"coding\" strand and a \"template\" strand. The above sequence is the \"coding\" strand which is usually the only one stored in bio-informatics, since the other strand can be derived from the fact that an adenine (A) base always pairs with a thymine (T) and a cytosine (C) always pairs with a guanine (G). (For more background information, you can visit [some lectures on nucleic acids](https://www2.chemistry.msu.edu/faculty/reusch/virttxtjml/nucacids.htm))\n",
        "\n",
        "Question\n",
        "--------\n",
        "\n",
        "When a gene is expressed, the first thing that happens is that the \"template\" sequence is separated from the \"coding\" sequence and gets associated with a messenger RNA (mRNA).  This sequence of mRNA is therefore almost the same as the \"coding\" sequence, except that the thymine bases (T) have been replaced by uracil bases (U).\n",
        "\n",
        "Using one of the functions from the table, compute the equivalent mRNA sequence to the sequence in this example.\n"
      ],
      "metadata": {
        "id": "762FP7fQj8aH"
      }
    },
    {
      "cell_type": "code",
      "source": [
        "coding_seq = (\n",
        "    \"AACCTGCTCTTTAGATTTCGAGCTTATTCTCTTCTAGCAGTTTCTTGCCACCATGTCGGAAACCGCTCCT\" +\n",
        "    \"GCCGAGACAGCCACCCCAGCGCCGGTGGAGAAATCCCCGGCTAAGAAGAAGGCAACTAAGAAGGCTGCCG\" +\n",
        "    \"GCGCCGGCGACCTGCTAAGCGCAAAGCGACGGGGCCCCCAGTCTCAGAGCTGATCACCAAGGCTGTGGCT\" +\n",
        "    \"TTCTAAGGAGCGCAATGGCCTTTCTTTGGCAGCCCTTAAGAAGGCCTTAGCGGCCGGTGGCTACGACGTG\" +\n",
        "    \"GAGAAGAATAACAGCCGCATTAAGCTGGGCCTCAGTTAGCTGGTGAGCAAGGGCACCCTGGTGCAGACCA\" +\n",
        "    \"AGGGCACTGGTGCTTCTGGCTCCTTTAAACTCAACAAGAAGGCGGCCTCCGGGGAAGCCAAGCCCAAAGC\" +\n",
        "    \"CAAGAAGGCAGGCGCCGCTAAAGCTAAGAAGCCCGCGGGGGCCACGCCTAAGAAGGCCAAGAAGGCTGCA\" +\n",
        "    \"GGGGCGAAAAAGGGAATAGTGAAGAAGACTCCGAAGAAGGCGAAGAAGCCCGCGGCGGCTGGCGTCAAAA\" +\n",
        "    \"TGGCGAAGAGCCCTAAGAAGGCCAAGGCCGCTGCCAAACCGAAAAAGGCAACCAAGAGTCCTGCCAAGCC\" +\n",
        "    \"CAAGGCAGTTAAGCCGAAGGCGGCAAAGCCCAAAGCCGCTAAGCCCAAAGCAGCAAAACCTAAAGCTGCA\" +\n",
        "    \"AAGGCCAAGAAGCCCGGCTGCCAAAAAGAAGTAGGAAGCTGGCGTGTGAAAACCGCAACAAAGCCCCAAG\" +\n",
        "    \"GCTCTTTTCAGAGCCACCCA\"\n",
        ")"
      ],
      "metadata": {
        "id": "x_6vjEywj74i"
      },
      "execution_count": null,
      "outputs": []
    },
    {
      "cell_type": "code",
      "source": [
        "# YOUR CODE HERE"
      ],
      "metadata": {
        "id": "mVFNQlyFlKFb"
      },
      "execution_count": null,
      "outputs": []
    },
    {
      "cell_type": "markdown",
      "source": [
        "In genetic code the sequence \"ATG\", or \"start codon\" indicates the start of the encoding of the protein. Use a function from the table to find the index of the start codon."
      ],
      "metadata": {
        "id": "D8lEJSJllaNg"
      }
    },
    {
      "cell_type": "code",
      "source": [
        "# YOUR CODE HERE"
      ],
      "metadata": {
        "id": "K5uGfoTIlmR6"
      },
      "execution_count": null,
      "outputs": []
    }
  ]
}